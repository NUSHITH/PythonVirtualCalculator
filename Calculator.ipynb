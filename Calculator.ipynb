{
 "cells": [
  {
   "cell_type": "code",
   "execution_count": 15,
   "id": "427517bc-8b97-4a61-b5f7-0810f7be7778",
   "metadata": {},
   "outputs": [],
   "source": [
    "import cv2 "
   ]
  },
  {
   "cell_type": "code",
   "execution_count": 16,
   "id": "6699d029-b673-4752-b008-a2af17149b92",
   "metadata": {},
   "outputs": [],
   "source": [
    "from cvzone.HandTrackingModule import HandDetector #it is a hand tracking module"
   ]
  },
  {
   "cell_type": "code",
   "execution_count": 17,
   "id": "610ea0f5-af08-4631-b1b7-8c2552eb4070",
   "metadata": {},
   "outputs": [],
   "source": [
    "from cvzone import HandTrackingModule"
   ]
  },
  {
   "cell_type": "code",
   "execution_count": 18,
   "id": "76a7f330-72aa-4a8a-b496-39486a7b0f53",
   "metadata": {},
   "outputs": [],
   "source": [
    "import time"
   ]
  },
  {
   "cell_type": "code",
   "execution_count": 19,
   "id": "47580398-84c5-40de-a314-c3ca9a653c4f",
   "metadata": {},
   "outputs": [],
   "source": [
    "class Button:#this is a class to insert the buttons on the dialog box\n",
    "    def __init__(self,pos,width,height,value):#function for the positional values\n",
    "        self.pos = pos \n",
    "        self.width = width\n",
    "        self.height = height\n",
    "        self.value = value\n",
    "    def draw(self,photo):#it is function to draw the buttons on the screen/dialog box\n",
    "        cv2.rectangle(photo,self.pos,(self.pos[0]+self.width,self.pos[1]+self.height),(225,225,225),cv2.FILLED)#it is function in the cv2 module to draw a rectangle on an image or a video\n",
    "        cv2.rectangle(photo,self.pos,(self.pos[0]+self.width,self.pos[1]+self.height),(50,50,50),3)\n",
    "        cv2.putText(photo,self.value,(self.pos[0]+45,self.pos[1]+58),cv2.FONT_HERSHEY_PLAIN,2,(50,50,50),2)\n",
    "    def checkClicks(self,x,y):\n",
    "        if self.pos[0] < x < self.pos[0] +self.width and self.pos[1] < y < self.pos[1] +self.height:\n",
    "            cv2.rectangle(photo,self.pos,(self.pos[0]+self.width,self.pos[1]+self.height),(225,225,225),cv2.FILLED)\n",
    "            cv2.rectangle(photo,self.pos,(self.pos[0]+self.width,self.pos[1]+self.height),(50,50,50),3)\n",
    "            cv2.putText(photo,self.value,(self.pos[0]+45,self.pos[1]+58),cv2.FONT_HERSHEY_PLAIN,2,(0,0,0),5)\n",
    "            return True\n",
    "        else:\n",
    "            return False"
   ]
  },
  {
   "cell_type": "code",
   "execution_count": 20,
   "id": "fb1545b9-22c9-44ef-8eda-8c389335d3b5",
   "metadata": {},
   "outputs": [],
   "source": [
    "cap = cv2.VideoCapture(0)\n",
    "cap.set(3,1280)#to set the dialog box size \n",
    "cap.set(4,720)#to set the dialog box size\n",
    "detector = HandDetector(detectionCon=0.8,maxHands=1) #detection confidenece if it is confident enough 80% then it clicks the photo\n",
    "buttonlistvalues=[['1','2','3','+'],\n",
    "                  ['4','5','6','*'],\n",
    "                  ['7','8','9','-'],\n",
    "                  ['0','/','.','=']]\n",
    "buttonlist=[]\n",
    "for x in range(4):\n",
    "    for y in range(4):\n",
    "        xpos = x*100 +800 #square pattern ga buttons ni draw cheyadaniki image meedha .........? aagu\n",
    "        ypos = y*100 +150 \n",
    "        buttonlist.append(Button((xpos,ypos),100,100,buttonlistvalues[y][x]))\n",
    "\n",
    "equ = ''"
   ]
  },
  {
   "cell_type": "code",
   "execution_count": 21,
   "id": "e69c2c7c-6b12-439a-a239-dba25d825b7f",
   "metadata": {},
   "outputs": [],
   "source": [
    "while True:\n",
    "    status, photo = cap.read()\n",
    "    photo = cv2.flip(photo, 1)  # Flipping the image for better visibility\n",
    "    hands, photo = detector.findHands(photo)\n",
    "    cv2.rectangle(photo, (800, 50), (800+400, 70+100), (225, 225, 225), cv2.FILLED)\n",
    "    cv2.rectangle(photo, (800, 50), (800+400, 70+100), (50, 50, 50), 3)\n",
    "    \n",
    "    for button in buttonlist:\n",
    "        button.draw(photo)\n",
    "        \n",
    "    if len(hands) != 0:\n",
    "        lmList = hands[0]['lmList']\n",
    "        length, info, photo = detector.findDistance(lmList[8][:2], lmList[12][:2], photo)\n",
    "        x, y = lmList[8][:2]\n",
    "        if length < 50:\n",
    "            for i, button in enumerate(buttonlist):\n",
    "                if button.checkClicks(x, y):\n",
    "                    myvalues = buttonlistvalues[int(i % 4)][int(i / 4)]\n",
    "                    if myvalues == \"=\":\n",
    "                        equ = str(eval(equ))\n",
    "                    else:\n",
    "                        equ += myvalues\n",
    "                    time.sleep(0.2)\n",
    "    \n",
    "    cv2.putText(photo, equ, (810, 120), cv2.FONT_HERSHEY_PLAIN, 3, (50, 50, 50), 3)                    \n",
    "    cv2.imshow(\"cal\", photo)\n",
    "    \n",
    "    if cv2.waitKey(1) == 13:\n",
    "        cap.release()\n",
    "        cv2.destroyAllWindows()\n",
    "        break\n"
   ]
  },
  {
   "cell_type": "code",
   "execution_count": null,
   "id": "5f786f4e-e958-4fc9-8fae-e92a89c26ad1",
   "metadata": {},
   "outputs": [],
   "source": []
  },
  {
   "cell_type": "code",
   "execution_count": null,
   "id": "c8e7afa1-4002-486d-a5d4-3a4370284ac9",
   "metadata": {},
   "outputs": [],
   "source": []
  },
  {
   "cell_type": "code",
   "execution_count": null,
   "id": "73f26b46-8f28-4ded-bb4f-740b9b0426e7",
   "metadata": {},
   "outputs": [],
   "source": []
  },
  {
   "cell_type": "code",
   "execution_count": null,
   "id": "42e6cf77-94f9-4ed1-a650-a051c6f68678",
   "metadata": {},
   "outputs": [],
   "source": []
  },
  {
   "cell_type": "code",
   "execution_count": null,
   "id": "ab3c1145-394e-42f9-b432-d3ab4ed0fcff",
   "metadata": {},
   "outputs": [],
   "source": []
  },
  {
   "cell_type": "code",
   "execution_count": null,
   "id": "78b5b286-e918-4954-8bb2-a859b8856f3c",
   "metadata": {},
   "outputs": [],
   "source": []
  },
  {
   "cell_type": "code",
   "execution_count": null,
   "id": "06195aa2-f278-4183-9f98-47bb9b51c5f1",
   "metadata": {},
   "outputs": [],
   "source": []
  },
  {
   "cell_type": "code",
   "execution_count": null,
   "id": "446a75bb-91ba-40d7-9bd6-e6c110f9b43f",
   "metadata": {},
   "outputs": [],
   "source": []
  },
  {
   "cell_type": "code",
   "execution_count": null,
   "id": "d9156416-c1bb-4fc8-9d6b-e79359c82895",
   "metadata": {},
   "outputs": [],
   "source": []
  },
  {
   "cell_type": "code",
   "execution_count": null,
   "id": "d0b6c91d-cb43-465b-a650-93e554c52d8f",
   "metadata": {},
   "outputs": [],
   "source": []
  },
  {
   "cell_type": "code",
   "execution_count": null,
   "id": "2f50738f-ce81-4594-b04d-ff16b05b9835",
   "metadata": {},
   "outputs": [],
   "source": []
  },
  {
   "cell_type": "code",
   "execution_count": null,
   "id": "a6be14d3-42a2-4e2d-94c5-975e7a4864e1",
   "metadata": {},
   "outputs": [],
   "source": []
  },
  {
   "cell_type": "code",
   "execution_count": null,
   "id": "37d86bce-36e1-47e9-a953-7ea4c10acd76",
   "metadata": {},
   "outputs": [],
   "source": []
  },
  {
   "cell_type": "code",
   "execution_count": null,
   "id": "eb772b02-acdb-49e7-8293-032d37c9922c",
   "metadata": {},
   "outputs": [],
   "source": []
  },
  {
   "cell_type": "code",
   "execution_count": null,
   "id": "4234c75b-caab-46c5-8581-a91b8096789d",
   "metadata": {},
   "outputs": [],
   "source": []
  },
  {
   "cell_type": "code",
   "execution_count": null,
   "id": "7b3e9c05-2d16-485b-8a57-3649da6b12df",
   "metadata": {},
   "outputs": [],
   "source": []
  },
  {
   "cell_type": "code",
   "execution_count": null,
   "id": "c68f8415-fbf8-4a11-a9fa-957a4e24c53d",
   "metadata": {},
   "outputs": [],
   "source": []
  },
  {
   "cell_type": "code",
   "execution_count": null,
   "id": "2f2c7db8-c09b-4feb-96fd-37006a2e4109",
   "metadata": {},
   "outputs": [],
   "source": []
  }
 ],
 "metadata": {
  "kernelspec": {
   "display_name": "Python 3 (ipykernel)",
   "language": "python",
   "name": "python3"
  },
  "language_info": {
   "codemirror_mode": {
    "name": "ipython",
    "version": 3
   },
   "file_extension": ".py",
   "mimetype": "text/x-python",
   "name": "python",
   "nbconvert_exporter": "python",
   "pygments_lexer": "ipython3",
   "version": "3.12.4"
  }
 },
 "nbformat": 4,
 "nbformat_minor": 5
}
